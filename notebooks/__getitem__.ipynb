{
 "cells": [
  {
   "cell_type": "markdown",
   "id": "529a1d2d",
   "metadata": {},
   "source": [
    "# if there are no `__getitem__`"
   ]
  },
  {
   "cell_type": "code",
   "execution_count": 2,
   "id": "11e3daf8",
   "metadata": {},
   "outputs": [
    {
     "name": "stdout",
     "output_type": "stream",
     "text": [
      "DEF Inc\n"
     ]
    }
   ],
   "source": [
    "class Building(object):\n",
    "     def __init__(self, floors):\n",
    "         self._floors = [None]*floors\n",
    "     def occupy(self, floor_number, data):\n",
    "          self._floors[floor_number] = data\n",
    "     def get_floor_data(self, floor_number):\n",
    "          return self._floors[floor_number]\n",
    "\n",
    "building1 = Building(4) # Construct a building with 4 floors\n",
    "building1.occupy(0, 'Reception')\n",
    "building1.occupy(1, 'ABC Corp')\n",
    "building1.occupy(2, 'DEF Inc')\n",
    "print( building1.get_floor_data(2) )"
   ]
  },
  {
   "cell_type": "markdown",
   "id": "52d3d782",
   "metadata": {},
   "source": [
    "# use `__getitem__`"
   ]
  },
  {
   "cell_type": "code",
   "execution_count": 5,
   "id": "90e0c80f",
   "metadata": {},
   "outputs": [
    {
     "name": "stdout",
     "output_type": "stream",
     "text": [
      "DEF Inc\n"
     ]
    }
   ],
   "source": [
    "class Building2(object):\n",
    "     def __init__(self, floors):\n",
    "         self._floors = [None]*floors\n",
    "     def __setitem__(self, floor_number, data):\n",
    "          self._floors[floor_number] = data\n",
    "     def __getitem__(self, floor_number):\n",
    "          return self._floors[floor_number]\n",
    "     def __len__(self):\n",
    "          return len(self._floors)\n",
    "\n",
    "\n",
    "building2 = Building2(4) # Construct a building with 4 floors\n",
    "building2[0] = 'Reception'\n",
    "building2[1] = 'ABC Corp'\n",
    "building2[2] = 'DEF Inc'\n",
    "print( building2[2] )\n"
   ]
  },
  {
   "cell_type": "code",
   "execution_count": 6,
   "id": "32ac3c7b",
   "metadata": {},
   "outputs": [
    {
     "name": "stdout",
     "output_type": "stream",
     "text": [
      "4\n"
     ]
    }
   ],
   "source": [
    "print(len(building2))"
   ]
  }
 ],
 "metadata": {
  "kernelspec": {
   "display_name": "Python 3 (ipykernel)",
   "language": "python",
   "name": "python3"
  },
  "language_info": {
   "codemirror_mode": {
    "name": "ipython",
    "version": 3
   },
   "file_extension": ".py",
   "mimetype": "text/x-python",
   "name": "python",
   "nbconvert_exporter": "python",
   "pygments_lexer": "ipython3",
   "version": "3.7.17"
  }
 },
 "nbformat": 4,
 "nbformat_minor": 5
}
