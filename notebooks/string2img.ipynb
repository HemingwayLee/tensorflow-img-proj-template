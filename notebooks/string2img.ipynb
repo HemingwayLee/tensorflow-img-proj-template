{
 "cells": [
  {
   "cell_type": "code",
   "execution_count": 1,
   "id": "9a8f25a3",
   "metadata": {},
   "outputs": [],
   "source": [
    "import random\n",
    "import numpy as np\n",
    "\n",
    "def generate_dict(all_chars):\n",
    "    num_chars = len(all_chars)\n",
    "    \n",
    "    char2label = dict((char, i) for i, char in enumerate(all_chars))\n",
    "    label2char = dict((i, char) for i, char in enumerate(all_chars))\n",
    "    \n",
    "    return char2label, label2char\n",
    "    \n",
    "\n",
    "def generate_strings_in_batch(all_chars, batch_size, length, variance=0):\n",
    "    char2label, label2char = generate_dict(all_chars)\n",
    "    \n",
    "    strings = []\n",
    "    labels = []\n",
    "    \n",
    "    for i in range(batch_size):\n",
    "        # rand = random.random()\n",
    "        the_length = length + np.random.randint(-variance, variance+1)\n",
    "        the_string = \"\".join([random.choice(all_chars[:len(all_chars)]) for _ in range(the_length)])\n",
    "        print(f\"{the_length}: {the_string}\")\n",
    "        \n",
    "        the_label = [char2label[char] for char in the_string]\n",
    "        strings.append(the_string)\n",
    "        labels.append(np.array(the_label))\n",
    "        \n",
    "    return strings, labels\n",
    "\n",
    "def generate_image_from_string(strings):\n",
    "    images = []\n",
    "    for word in strings:\n",
    "        images.append()\n",
    "        \n",
    "    return images"
   ]
  },
  {
   "cell_type": "code",
   "execution_count": 2,
   "id": "87454968",
   "metadata": {},
   "outputs": [
    {
     "name": "stdout",
     "output_type": "stream",
     "text": [
      "14: 44134A70478A87\n",
      "15: A88643B768B0636\n",
      "15: 2A1260669932B4A\n",
      "14: 145A538951A995\n",
      "15: 3030387564B816B\n",
      "12: 483365426B3B\n",
      "16: 7AA71A72B325285B\n",
      "16: 56B8392532A79B9A\n",
      "14: 321519062B4813\n",
      "15: 771335615456646\n"
     ]
    }
   ],
   "source": [
    "all_chars = \"0123456789AB\"\n",
    "strings, labels = generate_strings_in_batch(all_chars, 10, 14, 2)"
   ]
  },
  {
   "cell_type": "code",
   "execution_count": 3,
   "id": "5d215836",
   "metadata": {},
   "outputs": [
    {
     "name": "stdout",
     "output_type": "stream",
     "text": [
      "({'0': 0, '1': 1, '2': 2, '3': 3, '4': 4, '5': 5, '6': 6, '7': 7, '8': 8, '9': 9, 'A': 10, 'B': 11}, {0: '0', 1: '1', 2: '2', 3: '3', 4: '4', 5: '5', 6: '6', 7: '7', 8: '8', 9: '9', 10: 'A', 11: 'B'})\n",
      "['44134A70478A87', 'A88643B768B0636', '2A1260669932B4A', '145A538951A995', '3030387564B816B', '483365426B3B', '7AA71A72B325285B', '56B8392532A79B9A', '321519062B4813', '771335615456646']\n",
      "[array([ 4,  4,  1,  3,  4, 10,  7,  0,  4,  7,  8, 10,  8,  7]), array([10,  8,  8,  6,  4,  3, 11,  7,  6,  8, 11,  0,  6,  3,  6]), array([ 2, 10,  1,  2,  6,  0,  6,  6,  9,  9,  3,  2, 11,  4, 10]), array([ 1,  4,  5, 10,  5,  3,  8,  9,  5,  1, 10,  9,  9,  5]), array([ 3,  0,  3,  0,  3,  8,  7,  5,  6,  4, 11,  8,  1,  6, 11]), array([ 4,  8,  3,  3,  6,  5,  4,  2,  6, 11,  3, 11]), array([ 7, 10, 10,  7,  1, 10,  7,  2, 11,  3,  2,  5,  2,  8,  5, 11]), array([ 5,  6, 11,  8,  3,  9,  2,  5,  3,  2, 10,  7,  9, 11,  9, 10]), array([ 3,  2,  1,  5,  1,  9,  0,  6,  2, 11,  4,  8,  1,  3]), array([7, 7, 1, 3, 3, 5, 6, 1, 5, 4, 5, 6, 6, 4, 6])]\n"
     ]
    }
   ],
   "source": [
    "print(generate_dict(all_chars))\n",
    "print(strings)\n",
    "print(labels)"
   ]
  },
  {
   "cell_type": "code",
   "execution_count": null,
   "id": "e0442535",
   "metadata": {},
   "outputs": [],
   "source": []
  }
 ],
 "metadata": {
  "kernelspec": {
   "display_name": "Python 3",
   "language": "python",
   "name": "python3"
  },
  "language_info": {
   "codemirror_mode": {
    "name": "ipython",
    "version": 3
   },
   "file_extension": ".py",
   "mimetype": "text/x-python",
   "name": "python",
   "nbconvert_exporter": "python",
   "pygments_lexer": "ipython3",
   "version": "3.9.4"
  }
 },
 "nbformat": 4,
 "nbformat_minor": 5
}
